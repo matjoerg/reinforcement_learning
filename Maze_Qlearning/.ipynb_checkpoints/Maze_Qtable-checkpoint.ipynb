{
 "cells": [
  {
   "cell_type": "markdown",
   "metadata": {},
   "source": [
    "# Maze with Q-Table\n",
    "\n"
   ]
  },
  {
   "cell_type": "code",
   "execution_count": 1,
   "metadata": {},
   "outputs": [],
   "source": [
    "import numpy as np\n",
    "from matplotlib.pyplot import *\n",
    "\n",
    "left = 0; right = 1; up = 2; down = 3"
   ]
  },
  {
   "cell_type": "markdown",
   "metadata": {},
   "source": [
    "## Environment"
   ]
  },
  {
   "cell_type": "code",
   "execution_count": 2,
   "metadata": {},
   "outputs": [],
   "source": [
    "def Maze(position,action):\n",
    "    dead = False\n",
    "    actions = {left: [0,-1], right: [0,1], up: [1,0], down: [-1,0]}\n",
    "    state_matrix = np.array([[1, 1, 1, 1, 1, 1, 1],\n",
    "                             [1, 0, 0, 0, 0, 0, 1],\n",
    "                             [1, 0, 0, 0, 0, 0, 1],\n",
    "                             [1, 0, 0, 1, 0, 0, 1],\n",
    "                             [1, 0, 0, 1, 0, 0 ,1],\n",
    "                             [1, 0, 0, 1, 0, 2, 1],\n",
    "                             [1, 1, 1, 1, 1, 1, 1]])\n",
    "    \n",
    "    rewards = [-1, -100, 50]\n",
    "    \n",
    "    new_position = np.array(position) + np.array(actions[action])\n",
    "    new_state = state_matrix[new_position[0],new_position[1]]\n",
    "    reward = rewards[new_state]\n",
    "    win = (new_state == 2)\n",
    "    if new_state == 1 or new_state == 2:\n",
    "        dead = True\n",
    "    \n",
    "    return reward, new_position, dead, win"
   ]
  },
  {
   "cell_type": "markdown",
   "metadata": {},
   "source": [
    "## Q-table training"
   ]
  },
  {
   "cell_type": "code",
   "execution_count": 3,
   "metadata": {},
   "outputs": [],
   "source": [
    "# initialize Q table\n",
    "Q = np.zeros((7,7,4))\n",
    "# learning rates\n",
    "lr = 0.8\n",
    "y = 0.95\n",
    "num_episodes = 100\n",
    "# starting position\n",
    "p0 = [5,1]\n",
    "# save positions and rewards\n",
    "rList = []\n",
    "xList = []\n",
    "yList = []\n",
    "wins = 0\n",
    "for i in range(num_episodes):\n",
    "    p = p0\n",
    "    rAll = []\n",
    "    xAll = [p[1]]\n",
    "    yAll = [6-p[0]]\n",
    "    dead = False\n",
    "    step = 0\n",
    "    while step < 99:\n",
    "        step += 1\n",
    "        p1 = p[0]; p2 = p[1]\n",
    "        # choose action\n",
    "        a = np.argmax(Q[p1,p2])\n",
    "        # new position and reward\n",
    "        r, p_new, dead, win = Maze(p,a)\n",
    "        wins += win\n",
    "        p1n = p_new[0]; p2n = p_new[1]\n",
    "        # update Q-table\n",
    "        Q[p1,p2,a] = Q[p1,p2,a] + lr*(r + y*np.max(Q[p1n,p2n]) - Q[p1,p2,a])\n",
    "        p = p_new\n",
    "        rAll.append(r)\n",
    "        xAll.append(p[1])\n",
    "        yAll.append(6-p[0])\n",
    "        if dead is True:\n",
    "            break\n",
    "    rList.append(np.sum(rAll))\n",
    "    xList.append(xAll)\n",
    "    yList.append(yAll)"
   ]
  },
  {
   "cell_type": "markdown",
   "metadata": {},
   "source": [
    "## Learning curve"
   ]
  },
  {
   "cell_type": "code",
   "execution_count": 4,
   "metadata": {
    "scrolled": false
   },
   "outputs": [
    {
     "name": "stdout",
     "output_type": "stream",
     "text": [
      "Win rate: 0.77\n"
     ]
    },
    {
     "data": {
      "image/png": "[encoded data removed]",
      "text/plain": [
       "<matplotlib.figure.Figure at 0x7ff876fc0cf8>"
      ]
     },
     "metadata": {},
     "output_type": "display_data"
    }
   ],
   "source": [
    "print(\"Win rate: {}\".format(wins/float(num_episodes)))\n",
    "plot(range(num_episodes),rList)\n",
    "show()"
   ]
  },
  {
   "cell_type": "code",
   "execution_count": 35,
   "metadata": {},
   "outputs": [
    {
     "data": {
      "image/png": "[encoded data removed]",
      "text/plain": [
       "<matplotlib.figure.Figure at 0x7f6f9cb7b128>"
      ]
     },
     "metadata": {},
     "output_type": "display_data"
    }
   ],
   "source": [
    "plot(xList[-1],yList[-1],'r-')\n",
    "xlim([0,6])\n",
    "ylim([0,6])\n",
    "show()"
   ]
  }
 ],
 "metadata": {
  "kernelspec": {
   "display_name": "Python 3",
   "language": "python",
   "name": "python3"
  },
  "language_info": {
   "codemirror_mode": {
    "name": "ipython",
    "version": 3
   },
   "file_extension": ".py",
   "mimetype": "text/x-python",
   "name": "python",
   "nbconvert_exporter": "python",
   "pygments_lexer": "ipython3",
   "version": "3.6.3"
  }
 },
 "nbformat": 4,
 "nbformat_minor": 2
}
