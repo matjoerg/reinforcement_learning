{
 "cells": [
  {
   "cell_type": "markdown",
   "metadata": {},
   "source": [
    "# Maze with Q-Network\n",
    "\n"
   ]
  },
  {
   "cell_type": "code",
   "execution_count": 47,
   "metadata": {},
   "outputs": [],
   "source": [
    "import numpy as np\n",
    "from matplotlib.pyplot import *\n",
    "import tensorflow as tf\n",
    "\n",
    "left = 0; right = 1; up = 2; down = 3"
   ]
  },
  {
   "cell_type": "markdown",
   "metadata": {},
   "source": [
    "## Environment"
   ]
  },
  {
   "cell_type": "code",
   "execution_count": 61,
   "metadata": {},
   "outputs": [],
   "source": [
    "def Maze(position,action):\n",
    "    dead = False\n",
    "    actions = {left: [0,-1], right: [0,1], up: [-1,0], down: [1,0]}\n",
    "    state_matrix = np.array([[1, 1, 1, 1, 1, 1, 1],\n",
    "                             [1, 0, 0, 0, 0, 0, 1],\n",
    "                             [1, 0, 0, 0, 0, 0, 1],\n",
    "                             [1, 0, 0, 0, 0, 0, 1],\n",
    "                             [1, 0, 0, 0, 0, 0 ,1],\n",
    "                             [1, 0, 0, 1, 0, 2, 1],\n",
    "                             [1, 1, 1, 1, 1, 1, 1]])\n",
    "    \n",
    "    rewards = [-0.5, -10, 1000]\n",
    "    new_position = position + np.array(actions[action[0]])\n",
    "    new_state = state_matrix[int(new_position[0]),int(new_position[1])]\n",
    "    reward = rewards[new_state]\n",
    "    win = (new_state == 2)\n",
    "    if new_state == 1 or new_state == 2:\n",
    "        dead = True\n",
    "    \n",
    "    return reward, new_position, dead, win"
   ]
  },
  {
   "cell_type": "markdown",
   "metadata": {},
   "source": [
    "## Q-network training"
   ]
  },
  {
   "cell_type": "markdown",
   "metadata": {},
   "source": [
    "### Construct network"
   ]
  },
  {
   "cell_type": "code",
   "execution_count": 62,
   "metadata": {},
   "outputs": [],
   "source": [
    "tf.reset_default_graph()\n",
    "# construct network feed-forward graph\n",
    "n_hidden = 100\n",
    "\n",
    "inputs = tf.placeholder(shape=[None,2,1],dtype=tf.float32)\n",
    "\n",
    "conv_layer = tf.contrib.layers.conv2d(inputs=inputs,\n",
    "                                      kernel_size=1,\n",
    "                                      num_outputs=50,\n",
    "                                      activation_fn=tf.sigmoid)\n",
    "\n",
    "conv_layer = tf.contrib.layers.conv2d(inputs=conv_layer,\n",
    "                                      kernel_size=2,\n",
    "                                      num_outputs=5,\n",
    "                                      activation_fn=None)\n",
    "\n",
    "layer1 = tf.contrib.layers.fully_connected(inputs=tf.reshape(conv_layer,shape=np.array([-1,2*5])),\n",
    "                                           num_outputs=n_hidden)\n",
    "layer2 = tf.contrib.layers.fully_connected(inputs=layer1,\n",
    "                                           num_outputs=n_hidden)\n",
    "layer3 = tf.contrib.layers.fully_connected(inputs=layer2,\n",
    "                                           num_outputs=n_hidden)\n",
    "Qout = tf.contrib.layers.fully_connected(inputs=layer3,\n",
    "                                         num_outputs=4,\n",
    "                                         activation_fn=None)\n",
    "\n",
    "prob = tf.nn.softmax(Qout)\n",
    "predict = tf.argmax(prob,1)\n",
    "\n",
    "# model optimization\n",
    "nextQ = tf.placeholder(shape=[None,4],dtype=tf.float32)\n",
    "loss = tf.reduce_sum(tf.square(nextQ - Qout))\n",
    "trainer = tf.train.AdamOptimizer()\n",
    "updateModel = trainer.minimize(loss)"
   ]
  },
  {
   "cell_type": "markdown",
   "metadata": {},
   "source": [
    "### Network training"
   ]
  },
  {
   "cell_type": "code",
   "execution_count": 63,
   "metadata": {
    "scrolled": false
   },
   "outputs": [
    {
     "name": "stdout",
     "output_type": "stream",
     "text": [
      "Episode 100, win rate: 0.0000\n",
      "Episode 200, win rate: 0.0000\n",
      "Episode 300, win rate: 0.0000\n",
      "Episode 400, win rate: 0.0000\n",
      "Episode 500, win rate: 0.0100\n",
      "Episode 600, win rate: 0.0217\n",
      "Episode 700, win rate: 0.0186\n",
      "Episode 800, win rate: 0.0163\n",
      "Episode 900, win rate: 0.0156\n",
      "Episode 1000, win rate: 0.0140\n",
      "Episode 1100, win rate: 0.0145\n",
      "Episode 1200, win rate: 0.0183\n",
      "Episode 1300, win rate: 0.0192\n",
      "Episode 1400, win rate: 0.0207\n",
      "Episode 1500, win rate: 0.0393\n",
      "Episode 1600, win rate: 0.0587\n",
      "Episode 1700, win rate: 0.0618\n",
      "Episode 1800, win rate: 0.0589\n",
      "Episode 1900, win rate: 0.0595\n",
      "Episode 2000, win rate: 0.0585\n",
      "Episode 2100, win rate: 0.0600\n",
      "Episode 2200, win rate: 0.0595\n",
      "Episode 2300, win rate: 0.0587\n",
      "Episode 2400, win rate: 0.0592\n",
      "Episode 2500, win rate: 0.0596\n",
      "Episode 2600, win rate: 0.0600\n",
      "Episode 2700, win rate: 0.0604\n",
      "Episode 2800, win rate: 0.0618\n",
      "Episode 2900, win rate: 0.0610\n",
      "Episode 3000, win rate: 0.0610\n",
      "Episode 3100, win rate: 0.0826\n",
      "Episode 3200, win rate: 0.1050\n",
      "Episode 3300, win rate: 0.1264\n",
      "Episode 3400, win rate: 0.1441\n",
      "Episode 3500, win rate: 0.1609\n",
      "Episode 3600, win rate: 0.1783\n",
      "Episode 3700, win rate: 0.1943\n",
      "Episode 3800, win rate: 0.2089\n",
      "Episode 3900, win rate: 0.2228\n",
      "Episode 4000, win rate: 0.2365\n",
      "Episode 4100, win rate: 0.2490\n",
      "Episode 4200, win rate: 0.2614\n",
      "Episode 4300, win rate: 0.2728\n",
      "Episode 4400, win rate: 0.2834\n",
      "Episode 4500, win rate: 0.2927\n",
      "Episode 4600, win rate: 0.3033\n",
      "Episode 4700, win rate: 0.3126\n",
      "Episode 4800, win rate: 0.3212\n",
      "Episode 4900, win rate: 0.3302\n",
      "Episode 5000, win rate: 0.3372\n",
      "Episode 5100, win rate: 0.3463\n",
      "Episode 5200, win rate: 0.3537\n",
      "Episode 5300, win rate: 0.3609\n",
      "Episode 5400, win rate: 0.3674\n",
      "Episode 5500, win rate: 0.3753\n",
      "Episode 5600, win rate: 0.3812\n",
      "Episode 5700, win rate: 0.3884\n",
      "Episode 5800, win rate: 0.3936\n",
      "Episode 5900, win rate: 0.3990\n",
      "Episode 6000, win rate: 0.4048\n",
      "Episode 6100, win rate: 0.4107\n",
      "Episode 6200, win rate: 0.4158\n",
      "Episode 6300, win rate: 0.4211\n",
      "Episode 6400, win rate: 0.4269\n",
      "Episode 6500, win rate: 0.4329\n",
      "Episode 6600, win rate: 0.4370\n",
      "Episode 6700, win rate: 0.4400\n",
      "Episode 6800, win rate: 0.4449\n",
      "Episode 6900, win rate: 0.4480\n",
      "Episode 7000, win rate: 0.4524\n",
      "Episode 7100, win rate: 0.4573\n",
      "Episode 7200, win rate: 0.4621\n",
      "Episode 7300, win rate: 0.4656\n",
      "Episode 7400, win rate: 0.4693\n",
      "Episode 7500, win rate: 0.4727\n",
      "Episode 7600, win rate: 0.4768\n",
      "Episode 7700, win rate: 0.4804\n",
      "Episode 7800, win rate: 0.4836\n",
      "Episode 7900, win rate: 0.4863\n",
      "Episode 8000, win rate: 0.4899\n",
      "Episode 8100, win rate: 0.4942\n",
      "Episode 8200, win rate: 0.4954\n",
      "Episode 8300, win rate: 0.4980\n",
      "Episode 8400, win rate: 0.5011\n",
      "Episode 8500, win rate: 0.5047\n",
      "Episode 8600, win rate: 0.5081\n",
      "Episode 8700, win rate: 0.5113\n",
      "Episode 8800, win rate: 0.5143\n",
      "Episode 8900, win rate: 0.5172\n",
      "Episode 9000, win rate: 0.5196\n",
      "Episode 9100, win rate: 0.5220\n",
      "Episode 9200, win rate: 0.5248\n",
      "Episode 9300, win rate: 0.5277\n",
      "Episode 9400, win rate: 0.5299\n",
      "Episode 9500, win rate: 0.5318\n",
      "Episode 9600, win rate: 0.5339\n",
      "Episode 9700, win rate: 0.5366\n",
      "Episode 9800, win rate: 0.5389\n",
      "Episode 9900, win rate: 0.5413\n",
      "Episode 10000, win rate: 0.5440\n"
     ]
    }
   ],
   "source": [
    "# learning parameters\n",
    "y = 0.99\n",
    "e = 0.2\n",
    "num_episodes = 10000\n",
    "\n",
    "# starting position\n",
    "p0 = np.array([5.,1.])\n",
    "\n",
    "# save positions and rewards\n",
    "rList = []\n",
    "xList = []\n",
    "yList = []\n",
    "probList = []\n",
    "wins = 0\n",
    "init = tf.global_variables_initializer()\n",
    "\n",
    "# batches\n",
    "p_batch = []\n",
    "targetQ_batch = []\n",
    "\n",
    "with tf.Session() as sess:\n",
    "    sess.run(init)\n",
    "    for i in range(num_episodes):\n",
    "        if (i+1)%100 == 0:\n",
    "            print(\"Episode {}, win rate: {:.4f}\".format(i+1,wins/float(i+1)))\n",
    "\n",
    "        if i%200 == 0 and i != 0:\n",
    "            p_batch = np.array(p_batch)\n",
    "            targetQ_batch = np.array(targetQ_batch)\n",
    "            \n",
    "            p_batch = p_batch.reshape(p_batch.shape[0],p_batch.shape[1],1)\n",
    "            targetQ_batch = targetQ_batch.reshape(targetQ_batch.shape[0],targetQ_batch.shape[1]*targetQ_batch.shape[2])\n",
    "            \n",
    "            train_steps = 50\n",
    "            for j in range(train_steps):\n",
    "                _,cost = sess.run([updateModel,loss],feed_dict={inputs:p_batch,nextQ:targetQ_batch})\n",
    "                \n",
    "            p_batch = []\n",
    "            targetQ_batch = []\n",
    "            \n",
    "        p = p0\n",
    "        rAll = []\n",
    "        xAll = [p[1]]\n",
    "        yAll = [6-p[0]]\n",
    "        probAll = []\n",
    "        dead = False\n",
    "        step = 0\n",
    "        while step < 99:\n",
    "            step += 1\n",
    "            # choose action\n",
    "            a, allQ, probs = sess.run([predict,Qout,prob],feed_dict={inputs:p.reshape(1,2,1)})\n",
    "            if np.random.rand(1) < e:\n",
    "                a[0] = np.random.randint(0,4)\n",
    "                \n",
    "            # new position and reward\n",
    "            r, p_new, dead, win = Maze(p,a)\n",
    "            wins += win\n",
    "            \n",
    "            # estimate next Q' values with network\n",
    "            Q1 = sess.run(Qout,feed_dict={inputs:p_new.reshape(1,2,1)})\n",
    "            maxQ1 = np.max(Q1)\n",
    "            \n",
    "            # calculate target Q\n",
    "            targetQ = allQ\n",
    "            if dead:\n",
    "                targetQ[0,a[0]] = r\n",
    "            else:\n",
    "                targetQ[0,a[0]] = r + y*maxQ1\n",
    "            \n",
    "            # train network\n",
    "            #sess.run(updateModel,feed_dict={inputs:p.reshape(1,2,1),nextQ:targetQ.reshape(1,4)})\n",
    "            \n",
    "            p_batch.append(p)\n",
    "            targetQ_batch.append(targetQ)\n",
    "            \n",
    "            p = p_new\n",
    "            rAll.append(r)\n",
    "            xAll.append(p[1])\n",
    "            yAll.append(6-p[0])\n",
    "            probAll.append(probs[0])\n",
    "            if dead is True:\n",
    "                break\n",
    "                \n",
    "        rList.append(np.sum(rAll))\n",
    "        xList.append(xAll)\n",
    "        yList.append(yAll)\n",
    "        probList.append(probAll)"
   ]
  },
  {
   "cell_type": "markdown",
   "metadata": {},
   "source": [
    "## Learning curve"
   ]
  },
  {
   "cell_type": "code",
   "execution_count": 64,
   "metadata": {
    "scrolled": false
   },
   "outputs": [
    {
     "name": "stdout",
     "output_type": "stream",
     "text": [
      "Win rate: 0.5441\n"
     ]
    },
    {
     "data": {
      "image/png": "[encoded data removed]",
      "text/plain": [
       "<matplotlib.figure.Figure at 0x7f05f8476048>"
      ]
     },
     "metadata": {},
     "output_type": "display_data"
    }
   ],
   "source": [
    "print(\"Win rate: {}\".format(wins/float(num_episodes)))\n",
    "plot(range(num_episodes),rList,lw=0.5)\n",
    "show()"
   ]
  },
  {
   "cell_type": "code",
   "execution_count": 66,
   "metadata": {},
   "outputs": [
    {
     "name": "stdout",
     "output_type": "stream",
     "text": [
      "p = [1.0, 1.0]: Probs = [0.0, 0.0, 1.0, 0.0]\n",
      "p = [1.0, 2.0]: Probs = [0.0, 1.0, 2.9910341e-30, 0.0]\n",
      "p = [2.0, 2.0]: Probs = [0.0, 1.0, 0.0, 0.0]\n",
      "p = [2.0, 3.0]: Probs = [0.0, 1.0, 0.0, 4.5910061e-34]\n",
      "p = [3.0, 3.0]: Probs = [0.0, 1.0, 0.0, 0.0]\n",
      "p = [4.0, 3.0]: Probs = [0.0, 1.0, 0.0, 0.0]\n",
      "p = [5.0, 3.0]: Probs = [0.0, 0.0, 0.0, 1.0]\n",
      "p = [5.0, 2.0]: Probs = [0.0, 0.0, 0.0, 1.0]\n"
     ]
    },
    {
     "data": {
      "image/png": "[encoded data removed]",
      "text/plain": [
       "<matplotlib.figure.Figure at 0x7f05f8406e48>"
      ]
     },
     "metadata": {},
     "output_type": "display_data"
    }
   ],
   "source": [
    "for i in range(len(xList[-1])-1):\n",
    "    print(\"p = {}: Probs = {}\".format([xList[-1][i],yList[-1][i]],list(probList[-1][i])))\n",
    "\n",
    "plot(1,1,'C0o',ms=10)\n",
    "plot(5,1,'C0x',ms=10)\n",
    "plot(xList[-1],yList[-1],'C3-')\n",
    "plot([3,3],[0,1],'k-',lw=5)\n",
    "xlim([0,6])\n",
    "ylim([0,6])\n",
    "show()"
   ]
  },
  {
   "cell_type": "code",
   "execution_count": null,
   "metadata": {},
   "outputs": [],
   "source": []
  }
 ],
 "metadata": {
  "kernelspec": {
   "display_name": "Python 3",
   "language": "python",
   "name": "python3"
  },
  "language_info": {
   "codemirror_mode": {
    "name": "ipython",
    "version": 3
   },
   "file_extension": ".py",
   "mimetype": "text/x-python",
   "name": "python",
   "nbconvert_exporter": "python",
   "pygments_lexer": "ipython3",
   "version": "3.6.3"
  }
 },
 "nbformat": 4,
 "nbformat_minor": 2
}
