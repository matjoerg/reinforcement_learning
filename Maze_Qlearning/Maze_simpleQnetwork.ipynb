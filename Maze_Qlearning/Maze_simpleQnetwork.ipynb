{
 "cells": [
  {
   "cell_type": "markdown",
   "metadata": {},
   "source": [
    "# Maze with Q-Network\n",
    "\n"
   ]
  },
  {
   "cell_type": "code",
   "execution_count": 48,
   "metadata": {},
   "outputs": [],
   "source": [
    "import numpy as np\n",
    "from matplotlib.pyplot import *\n",
    "import tensorflow as tf\n",
    "\n",
    "left = 0; right = 1; up = 2; down = 3"
   ]
  },
  {
   "cell_type": "markdown",
   "metadata": {},
   "source": [
    "## Environment"
   ]
  },
  {
   "cell_type": "code",
   "execution_count": 72,
   "metadata": {},
   "outputs": [],
   "source": [
    "def Maze(position,action):\n",
    "    dead = False\n",
    "    actions = {left: [0,-1], right: [0,1], up: [-1,0], down: [1,0]}\n",
    "    state_matrix = np.array([[1, 1, 1, 1, 1, 1, 1],\n",
    "                             [1, 0, 0, 0, 0, 0, 1],\n",
    "                             [1, 0, 0, 0, 0, 0, 1],\n",
    "                             [1, 0, 0, 1, 0, 0, 1],\n",
    "                             [1, 0, 0, 1, 0, 0 ,1],\n",
    "                             [1, 0, 0, 1, 0, 2, 1],\n",
    "                             [1, 1, 1, 1, 1, 1, 1]])\n",
    "    \n",
    "    rewards = [-1, -100, 50]\n",
    "    \n",
    "    new_position = position + np.array(actions[action[0]])\n",
    "    new_state = state_matrix[int(new_position[0]),int(new_position[1])]\n",
    "    reward = rewards[new_state]\n",
    "    win = (new_state == 2)\n",
    "    if new_state == 1 or new_state == 2:\n",
    "        dead = True\n",
    "    \n",
    "    return reward, new_position, dead, win"
   ]
  },
  {
   "cell_type": "markdown",
   "metadata": {},
   "source": [
    "## Q-network training"
   ]
  },
  {
   "cell_type": "markdown",
   "metadata": {},
   "source": [
    "### Construct network"
   ]
  },
  {
   "cell_type": "code",
   "execution_count": 73,
   "metadata": {},
   "outputs": [],
   "source": [
    "# construct network feed-forward graph\n",
    "tf.reset_default_graph()\n",
    "inputs = tf.placeholder(shape=[1,49],dtype=tf.float32)\n",
    "W1 = tf.Variable(tf.random_uniform([49,4],0,0.01))\n",
    "Qout = tf.matmul(inputs,W1)\n",
    "predict = tf.argmax(Qout,1)\n",
    "\n",
    "# model optimization\n",
    "nextQ = tf.placeholder(shape=[1,4],dtype=tf.float32)\n",
    "loss = tf.reduce_sum(tf.square(nextQ - Qout))\n",
    "trainer = tf.train.GradientDescentOptimizer(learning_rate=0.1)\n",
    "updateModel = trainer.minimize(loss)"
   ]
  },
  {
   "cell_type": "code",
   "execution_count": 74,
   "metadata": {},
   "outputs": [],
   "source": [
    "def Xin(pos):\n",
    "    X = np.zeros([1,49])\n",
    "    idx = pos[0]*7 + pos[1]\n",
    "    X[0][int(idx)] = 1.\n",
    "    return np.array(X)"
   ]
  },
  {
   "cell_type": "markdown",
   "metadata": {},
   "source": [
    "### Network training"
   ]
  },
  {
   "cell_type": "code",
   "execution_count": 82,
   "metadata": {
    "scrolled": true
   },
   "outputs": [],
   "source": [
    "# learning parameters\n",
    "y = 0.99\n",
    "e = 0.00\n",
    "num_episodes = 100\n",
    "\n",
    "# starting position\n",
    "p0 = [5.,1.]\n",
    "\n",
    "# save positions and rewards\n",
    "rList = []\n",
    "xList = []\n",
    "yList = []\n",
    "WList = []\n",
    "wins = 0\n",
    "init = tf.global_variables_initializer()\n",
    "with tf.Session() as sess:\n",
    "    sess.run(init)\n",
    "    for i in range(num_episodes):\n",
    "        p = p0\n",
    "        rAll = []\n",
    "        xAll = [p[1]]\n",
    "        yAll = [6-p[0]]\n",
    "        dead = False\n",
    "        step = 0\n",
    "        while step < 99:\n",
    "            step += 1\n",
    "            # choose action\n",
    "            a, allQ = sess.run([predict,Qout],feed_dict={inputs:Xin(p)})\n",
    "            #print(a, allQ)\n",
    "            if np.random.rand(1) < e:\n",
    "                a[0] = np.random.randint(0,4)\n",
    "            # new position and reward\n",
    "            r, p_new, dead, win = Maze(p,a)\n",
    "            wins += win\n",
    "            # estimate next Q' values with network\n",
    "            Q1 = sess.run(Qout,feed_dict={inputs:Xin(p_new)})\n",
    "            #print(p,p_new)\n",
    "            maxQ1 = np.max(Q1)\n",
    "            # calculate target Q\n",
    "            targetQ = allQ\n",
    "            targetQ[0,a[0]] = r + y*maxQ1\n",
    "            # train network\n",
    "            _,Wout = sess.run([updateModel,W1],feed_dict={inputs:Xin(p),nextQ:targetQ})\n",
    "            p = p_new\n",
    "            rAll.append(r)\n",
    "            xAll.append(p[1])\n",
    "            yAll.append(6-p[0])\n",
    "            if dead is True:\n",
    "                break\n",
    "        rList.append(np.sum(rAll))\n",
    "        xList.append(xAll)\n",
    "        yList.append(yAll)\n",
    "        WList.append(np.sum(Wout))"
   ]
  },
  {
   "cell_type": "markdown",
   "metadata": {},
   "source": [
    "## Learning curve"
   ]
  },
  {
   "cell_type": "code",
   "execution_count": 83,
   "metadata": {
    "scrolled": false
   },
   "outputs": [
    {
     "name": "stdout",
     "output_type": "stream",
     "text": [
      "Win rate: 0.78\n"
     ]
    },
    {
     "data": {
      "image/png": "[encoded data removed]",
      "text/plain": [
       "<matplotlib.figure.Figure at 0x7f8048098d30>"
      ]
     },
     "metadata": {},
     "output_type": "display_data"
    }
   ],
   "source": [
    "print(\"Win rate: {}\".format(wins/float(num_episodes)))\n",
    "plot(range(num_episodes),rList)\n",
    "show()"
   ]
  },
  {
   "cell_type": "code",
   "execution_count": 84,
   "metadata": {},
   "outputs": [
    {
     "data": {
      "image/png": "[encoded data removed]",
      "text/plain": [
       "<matplotlib.figure.Figure at 0x7f8048196fd0>"
      ]
     },
     "metadata": {},
     "output_type": "display_data"
    }
   ],
   "source": [
    "plot(1,1,'C0o',ms=10)\n",
    "plot(5,1,'C0x',ms=10)\n",
    "plot(xList[-1],yList[-1],'C3-')\n",
    "plot([3,3],[0,3],'k-',lw=5)\n",
    "xlim([0,6])\n",
    "ylim([0,6])\n",
    "show()"
   ]
  },
  {
   "cell_type": "code",
   "execution_count": null,
   "metadata": {},
   "outputs": [],
   "source": []
  }
 ],
 "metadata": {
  "kernelspec": {
   "display_name": "Python 3",
   "language": "python",
   "name": "python3"
  },
  "language_info": {
   "codemirror_mode": {
    "name": "ipython",
    "version": 3
   },
   "file_extension": ".py",
   "mimetype": "text/x-python",
   "name": "python",
   "nbconvert_exporter": "python",
   "pygments_lexer": "ipython3",
   "version": "3.6.3"
  }
 },
 "nbformat": 4,
 "nbformat_minor": 2
}
